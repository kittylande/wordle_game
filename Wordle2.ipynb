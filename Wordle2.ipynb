{
  "nbformat": 4,
  "nbformat_minor": 0,
  "metadata": {
    "colab": {
      "provenance": []
    },
    "kernelspec": {
      "name": "python3",
      "display_name": "Python 3"
    },
    "language_info": {
      "name": "python"
    }
  },
  "cells": [
    {
      "cell_type": "code",
      "source": [
        "import requests"
      ],
      "metadata": {
        "id": "U_q19XKgmkSy"
      },
      "execution_count": null,
      "outputs": []
    },
    {
      "cell_type": "code",
      "execution_count": null,
      "metadata": {
        "id": "n6qS6XO3lGlo"
      },
      "outputs": [],
      "source": [
        "wordsfile = requests.get(\"https://raw.githubusercontent.com/dwyl/english-words/master/words.txt\").text.split(\"\\n\")"
      ]
    },
    {
      "cell_type": "code",
      "source": [
        "print(wordsfile[:10])\n",
        "len(wordsfile)"
      ],
      "metadata": {
        "colab": {
          "base_uri": "https://localhost:8080/"
        },
        "id": "h9Bj70_UmQIq",
        "outputId": "2eac3b92-6dda-4fd1-9e41-06c4315c810c"
      },
      "execution_count": null,
      "outputs": [
        {
          "output_type": "stream",
          "name": "stdout",
          "text": [
            "['2', '1080', '&c', '10-point', '10th', '11-point', '12-point', '16-point', '18-point', '1st']\n"
          ]
        },
        {
          "output_type": "execute_result",
          "data": {
            "text/plain": [
              "466551"
            ]
          },
          "metadata": {},
          "execution_count": 17
        }
      ]
    },
    {
      "cell_type": "code",
      "source": [
        "all_five_letter_words = [ i for i in wordsfile if len(i) == 5]\n"
      ],
      "metadata": {
        "id": "ybdNGK-Cm3kG"
      },
      "execution_count": null,
      "outputs": []
    },
    {
      "cell_type": "code",
      "source": [
        "print(all_five_letter_words[:10])\n",
        "len(all_five_letter_words)"
      ],
      "metadata": {
        "colab": {
          "base_uri": "https://localhost:8080/"
        },
        "id": "_hn1g5GEp6nM",
        "outputId": "fb737752-d9ca-4cb6-9c55-bf8dbbfa78e6"
      },
      "execution_count": null,
      "outputs": [
        {
          "output_type": "stream",
          "name": "stdout",
          "text": [
            "['2,4-d', '30-30', 'aahed', 'aalii', 'Aalst', 'Aalto', 'AAMSI', 'AAPSS', 'Aarau', 'Aaren']\n"
          ]
        },
        {
          "output_type": "execute_result",
          "data": {
            "text/plain": [
              "22950"
            ]
          },
          "metadata": {},
          "execution_count": 18
        }
      ]
    },
    {
      "cell_type": "code",
      "source": [
        "all_lowercase = [ i for i in all_five_letter_words if i.islower()]\n",
        "len(all_lowercase)"
      ],
      "metadata": {
        "id": "gIrHC2cbqAxc",
        "colab": {
          "base_uri": "https://localhost:8080/"
        },
        "outputId": "52ade37b-9ac0-446a-fcdb-db81a91d8f19"
      },
      "execution_count": null,
      "outputs": [
        {
          "output_type": "execute_result",
          "data": {
            "text/plain": [
              "13758"
            ]
          },
          "metadata": {},
          "execution_count": 19
        }
      ]
    },
    {
      "cell_type": "code",
      "source": [
        "print(all_lowercase[:20])"
      ],
      "metadata": {
        "colab": {
          "base_uri": "https://localhost:8080/"
        },
        "id": "VdJjBSFJqniR",
        "outputId": "7ed33db9-fb71-462c-ba94-f970df2525f7"
      },
      "execution_count": null,
      "outputs": [
        {
          "output_type": "stream",
          "name": "stdout",
          "text": [
            "['2,4-d', 'aahed', 'aalii', 'aargh', 'abaca', 'abaci', 'aback', 'abada', 'abaff', 'abaft', 'abaka', 'abamp', 'aband', 'abase', 'abash', 'abask', 'abaue', 'abave', 'abaze', 'abbas']\n"
          ]
        }
      ]
    },
    {
      "cell_type": "code",
      "source": [
        "word_alpha = [i for i in all_lowercase if i.isalpha()]\n"
      ],
      "metadata": {
        "id": "5LX9bnDRqryb"
      },
      "execution_count": null,
      "outputs": []
    },
    {
      "cell_type": "code",
      "source": [
        "print(word_alpha[:14])"
      ],
      "metadata": {
        "colab": {
          "base_uri": "https://localhost:8080/"
        },
        "id": "--HFe_HorbHE",
        "outputId": "f9671520-815e-4827-f7e9-b99afc773500"
      },
      "execution_count": null,
      "outputs": [
        {
          "output_type": "stream",
          "name": "stdout",
          "text": [
            "['aahed', 'aalii', 'aargh', 'abaca', 'abaci', 'aback', 'abada', 'abaff', 'abaft', 'abaka', 'abamp', 'aband', 'abase', 'abash']\n"
          ]
        }
      ]
    },
    {
      "cell_type": "code",
      "source": [
        "len(word_alpha)"
      ],
      "metadata": {
        "id": "6Vuaw1eYrfzf",
        "colab": {
          "base_uri": "https://localhost:8080/"
        },
        "outputId": "a7a0c955-76fd-4b93-977e-94b4821307eb"
      },
      "execution_count": null,
      "outputs": [
        {
          "output_type": "execute_result",
          "data": {
            "text/plain": [
              "12927"
            ]
          },
          "metadata": {},
          "execution_count": 16
        }
      ]
    },
    {
      "cell_type": "code",
      "source": [
        "import random as r \n"
      ],
      "metadata": {
        "id": "3laNDUktrxpV"
      },
      "execution_count": null,
      "outputs": []
    },
    {
      "cell_type": "code",
      "source": [
        "r.shuffle(word_alpha)"
      ],
      "metadata": {
        "id": "DHPMJosTskp2"
      },
      "execution_count": null,
      "outputs": []
    },
    {
      "cell_type": "code",
      "source": [
        "print(word_alpha[:10])"
      ],
      "metadata": {
        "colab": {
          "base_uri": "https://localhost:8080/"
        },
        "id": "bzkYRzOLs5Tx",
        "outputId": "3ac54b8f-3e95-489c-90b4-711b6c84b4a1"
      },
      "execution_count": null,
      "outputs": [
        {
          "output_type": "stream",
          "name": "stdout",
          "text": [
            "['letup', 'moist', 'sneak', 'spald', 'kukri', 'liked', 'infix', 'sluig', 'melds', 'cairn']\n"
          ]
        }
      ]
    },
    {
      "cell_type": "code",
      "source": [
        "word = \"kukri\"\n",
        "\n"
      ],
      "metadata": {
        "id": "7ovNc_mls-Mw"
      },
      "execution_count": null,
      "outputs": []
    },
    {
      "cell_type": "code",
      "source": [
        "print(\"\\033[93m\" + \"Chris\" + \"\\033[0m\")"
      ],
      "metadata": {
        "colab": {
          "base_uri": "https://localhost:8080/"
        },
        "id": "2vfW7p5Ytyfy",
        "outputId": "6a291786-be06-4c9f-cee3-4d0fb8e8396b"
      },
      "execution_count": null,
      "outputs": [
        {
          "output_type": "stream",
          "name": "stdout",
          "text": [
            "\u001b[93mChris\u001b[0m\n"
          ]
        }
      ]
    },
    {
      "cell_type": "code",
      "source": [
        "print(\"\\033[91m\" + \"Chris\" + \"\\033[0m\")"
      ],
      "metadata": {
        "colab": {
          "base_uri": "https://localhost:8080/"
        },
        "id": "E-_1WMTIu99j",
        "outputId": "b5947d4e-e2b8-4c1f-fcd5-90339b93fc0e"
      },
      "execution_count": null,
      "outputs": [
        {
          "output_type": "stream",
          "name": "stdout",
          "text": [
            "\u001b[91mChris\u001b[0m\n"
          ]
        }
      ]
    },
    {
      "cell_type": "code",
      "source": [
        "print(\"\\033[92m\" + \"Chris\" + \"\\033[0m\")"
      ],
      "metadata": {
        "colab": {
          "base_uri": "https://localhost:8080/"
        },
        "id": "WlbOGwxivGLF",
        "outputId": "a61c46b8-b497-4fdc-d3c6-5235fe69aa9c"
      },
      "execution_count": null,
      "outputs": [
        {
          "output_type": "stream",
          "name": "stdout",
          "text": [
            "\u001b[92mChris\u001b[0m\n"
          ]
        }
      ]
    },
    {
      "cell_type": "code",
      "source": [
        "guess = \"liked\""
      ],
      "metadata": {
        "id": "3tpP2UHHvQmD"
      },
      "execution_count": null,
      "outputs": []
    },
    {
      "cell_type": "code",
      "source": [
        "for i,j in zip(word, guess):\n",
        "  print(i,j)"
      ],
      "metadata": {
        "colab": {
          "base_uri": "https://localhost:8080/"
        },
        "id": "1I4HIXj5v14m",
        "outputId": "c2023933-5cbd-4782-d1a5-b5fb649c8f14"
      },
      "execution_count": null,
      "outputs": [
        {
          "output_type": "stream",
          "name": "stdout",
          "text": [
            "k l\n",
            "u i\n",
            "k k\n",
            "r e\n",
            "i d\n"
          ]
        }
      ]
    },
    {
      "cell_type": "code",
      "source": [
        "for i,j in zip(word, guess):\n",
        "  if  i == j:\n",
        "    print(\"\\033[92m\" + j + \"\\033[0m\", end=\" \")\n",
        "  elif j in word:\n",
        "    print(\"\\033[93m\" + j + \"\\033[0m\", end=\" \")\n",
        "  else:\n",
        "    print(\"\\033[91m\" + j + \"\\033[0m\", end=\" \")"
      ],
      "metadata": {
        "colab": {
          "base_uri": "https://localhost:8080/"
        },
        "id": "RdACue1QwY7G",
        "outputId": "ac5ef6a2-cb54-4e7e-f12c-04614e5bbaed"
      },
      "execution_count": null,
      "outputs": [
        {
          "output_type": "stream",
          "name": "stdout",
          "text": [
            "\u001b[91ml\u001b[0m \u001b[93mi\u001b[0m \u001b[92mk\u001b[0m \u001b[91me\u001b[0m \u001b[91md\u001b[0m "
          ]
        }
      ]
    },
    {
      "cell_type": "markdown",
      "source": [
        "get the words list which have been passed through the filter \n",
        "\n",
        "get input guess from user \n",
        "\n",
        "compare user's guess/input to the word from word's list \n",
        "\n",
        "during comparrison show the user which letters are in word or not (in different colors)\n",
        "\n",
        "Ask the user to guess word again and loop though/compare again \n",
        "till they guess the word \n",
        "\n",
        "\n"
      ],
      "metadata": {
        "id": "YPbYn4MVykkC"
      }
    },
    {
      "cell_type": "code",
      "source": [
        "import requests\n",
        "import random as r \n",
        "from IPython.display import clear_output\n",
        "wordsfile = requests.get(\"https://raw.githubusercontent.com/dwyl/english-words/master/words.txt\").text.split(\"\\n\")\n",
        "word_alpha = [ i for i in wordsfile if len(i) == 5 and i.islower() and i.isalpha() and not i.endswith(\"s\")]"
      ],
      "metadata": {
        "id": "A_ax5XPlxMvu"
      },
      "execution_count": null,
      "outputs": []
    },
    {
      "cell_type": "code",
      "source": [
        "word = r.choice(word_alpha)\n",
        "bad_guess = 0\n",
        "while True:\n",
        "  clear_output(wait=True)\n",
        "  guess = input(\"Guess your word! \")\n",
        "  for i,j in zip(word, guess):\n",
        "    if  i == j:\n",
        "      print(\"\\033[92m\" + j + \"\\033[0m\", end=\" \")\n",
        "    elif j in word:\n",
        "      print(\"\\033[93m\" + j + \"\\033[0m\", end=\" \")\n",
        "    else:\n",
        "      print(\"\\033[91m\" + j + \"\\033[0m\", end=\" \")\n",
        "  print()\n",
        "  if guess != word:\n",
        "    bad_guess = bad_guess + 1\n",
        "  if guess == word:\n",
        "    break\n",
        "if bad_guess >= 10:\n",
        "  print(\"You did all right. \")\n",
        "elif bad_guess <= 5:\n",
        "  print(\"Congratulations! You're a WORDLE Master. \")\n"
      ],
      "metadata": {
        "colab": {
          "base_uri": "https://localhost:8080/"
        },
        "id": "kDgTY-CQoWW3",
        "outputId": "8bc179af-fdb5-4bd6-8472-e3aa9d97d414"
      },
      "execution_count": null,
      "outputs": [
        {
          "output_type": "stream",
          "name": "stdout",
          "text": [
            "Guess your word! ville\n",
            "\u001b[92mv\u001b[0m \u001b[92mi\u001b[0m \u001b[92ml\u001b[0m \u001b[92ml\u001b[0m \u001b[92me\u001b[0m \n",
            "You did all right. \n"
          ]
        }
      ]
    },
    {
      "cell_type": "code",
      "source": [],
      "metadata": {
        "id": "F5Rf1ERYs1Yu"
      },
      "execution_count": null,
      "outputs": []
    }
  ]
}