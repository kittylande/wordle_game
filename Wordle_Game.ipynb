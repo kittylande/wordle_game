{
  "nbformat": 4,
  "nbformat_minor": 0,
  "metadata": {
    "colab": {
      "provenance": []
    },
    "kernelspec": {
      "name": "python3",
      "display_name": "Python 3"
    },
    "language_info": {
      "name": "python"
    }
  },
  "cells": [
    {
      "cell_type": "code",
      "source": [
        "from IPython.display import clear_output\n",
        "\n"
      ],
      "metadata": {
        "id": "x5DBl8MKjQbZ"
      },
      "execution_count": null,
      "outputs": []
    },
    {
      "cell_type": "code",
      "execution_count": null,
      "metadata": {
        "id": "MJn_ETBHolaW"
      },
      "outputs": [],
      "source": [
        "words = [\"juice\", \"guess\",\"about\", \"world\", \"great\",\"water\"]"
      ]
    },
    {
      "cell_type": "code",
      "source": [
        "import random as r "
      ],
      "metadata": {
        "id": "142yzW-ll6xD"
      },
      "execution_count": null,
      "outputs": []
    },
    {
      "cell_type": "code",
      "source": [
        "r.choice(words)"
      ],
      "metadata": {
        "colab": {
          "base_uri": "https://localhost:8080/",
          "height": 35
        },
        "id": "B__IrP-5mWrn",
        "outputId": "830364c7-cf26-4293-c1a0-aee557149322"
      },
      "execution_count": null,
      "outputs": [
        {
          "output_type": "execute_result",
          "data": {
            "text/plain": [
              "'guess'"
            ],
            "application/vnd.google.colaboratory.intrinsic+json": {
              "type": "string"
            }
          },
          "metadata": {},
          "execution_count": 4
        }
      ]
    },
    {
      "cell_type": "code",
      "source": [
        "word = r.choice(words)\n"
      ],
      "metadata": {
        "id": "3qyGRNUTmmJi"
      },
      "execution_count": null,
      "outputs": []
    },
    {
      "cell_type": "code",
      "source": [
        "word = \"pizza\""
      ],
      "metadata": {
        "id": "zmyGhJXetp2P"
      },
      "execution_count": null,
      "outputs": []
    },
    {
      "cell_type": "code",
      "source": [
        "underscores = [\"_\",\"_\",\"_\",\"_\",\"_\"]"
      ],
      "metadata": {
        "id": "yJWZTYCamzfh"
      },
      "execution_count": null,
      "outputs": []
    },
    {
      "cell_type": "code",
      "source": [
        "while underscores.count(\"_\") != 0:\n",
        "  print(*underscores)\n",
        "  letter = input(\"Enter your 1 letter guess here: \")\n",
        "  if len(letter) > 1 :\n",
        "    print(\"Please enter only one letter at a time!\")\n",
        "  else:\n",
        "    if letter in word:\n",
        "      count = word.count(letter)\n",
        "      for i in range(count):\n",
        "        position = word.index(letter)\n",
        "        underscores[position] = letter\n",
        "        word = word.replace(letter, \"!\", 1)\n",
        "      print(\"Right guess!\")\n",
        "    else:\n",
        "      print(\"Wrong guess--try again!\")\n",
        "print(\"Great job! You've won with the word\", *underscores,\"\\b.\")"
      ],
      "metadata": {
        "colab": {
          "base_uri": "https://localhost:8080/",
          "height": 450
        },
        "id": "B7Knwpq37lJb",
        "outputId": "3b592ce6-0d7d-4129-ab65-1e9988742d73"
      },
      "execution_count": null,
      "outputs": [
        {
          "output_type": "stream",
          "name": "stdout",
          "text": [
            "_ _ _ _ _\n",
            "Enter your 1 letter guess here: \n",
            "Right guess!\n",
            " _ _ _ _\n"
          ]
        },
        {
          "output_type": "error",
          "ename": "KeyboardInterrupt",
          "evalue": "ignored",
          "traceback": [
            "\u001b[0;31m---------------------------------------------------------------------------\u001b[0m",
            "\u001b[0;31mKeyboardInterrupt\u001b[0m                         Traceback (most recent call last)",
            "\u001b[0;32m<ipython-input-8-576ab270abb1>\u001b[0m in \u001b[0;36m<module>\u001b[0;34m\u001b[0m\n\u001b[1;32m      1\u001b[0m \u001b[0;32mwhile\u001b[0m \u001b[0munderscores\u001b[0m\u001b[0;34m.\u001b[0m\u001b[0mcount\u001b[0m\u001b[0;34m(\u001b[0m\u001b[0;34m\"_\"\u001b[0m\u001b[0;34m)\u001b[0m \u001b[0;34m!=\u001b[0m \u001b[0;36m0\u001b[0m\u001b[0;34m:\u001b[0m\u001b[0;34m\u001b[0m\u001b[0;34m\u001b[0m\u001b[0m\n\u001b[1;32m      2\u001b[0m   \u001b[0mprint\u001b[0m\u001b[0;34m(\u001b[0m\u001b[0;34m*\u001b[0m\u001b[0munderscores\u001b[0m\u001b[0;34m)\u001b[0m\u001b[0;34m\u001b[0m\u001b[0;34m\u001b[0m\u001b[0m\n\u001b[0;32m----> 3\u001b[0;31m   \u001b[0mletter\u001b[0m \u001b[0;34m=\u001b[0m \u001b[0minput\u001b[0m\u001b[0;34m(\u001b[0m\u001b[0;34m\"Enter your 1 letter guess here: \"\u001b[0m\u001b[0;34m)\u001b[0m\u001b[0;34m\u001b[0m\u001b[0;34m\u001b[0m\u001b[0m\n\u001b[0m\u001b[1;32m      4\u001b[0m   \u001b[0;32mif\u001b[0m \u001b[0mlen\u001b[0m\u001b[0;34m(\u001b[0m\u001b[0mletter\u001b[0m\u001b[0;34m)\u001b[0m \u001b[0;34m>\u001b[0m \u001b[0;36m1\u001b[0m \u001b[0;34m:\u001b[0m\u001b[0;34m\u001b[0m\u001b[0;34m\u001b[0m\u001b[0m\n\u001b[1;32m      5\u001b[0m     \u001b[0mprint\u001b[0m\u001b[0;34m(\u001b[0m\u001b[0;34m\"Please enter only one letter at a time!\"\u001b[0m\u001b[0;34m)\u001b[0m\u001b[0;34m\u001b[0m\u001b[0;34m\u001b[0m\u001b[0m\n",
            "\u001b[0;32m/usr/local/lib/python3.8/dist-packages/ipykernel/kernelbase.py\u001b[0m in \u001b[0;36mraw_input\u001b[0;34m(self, prompt)\u001b[0m\n\u001b[1;32m    858\u001b[0m                 \u001b[0;34m\"raw_input was called, but this frontend does not support input requests.\"\u001b[0m\u001b[0;34m\u001b[0m\u001b[0;34m\u001b[0m\u001b[0m\n\u001b[1;32m    859\u001b[0m             )\n\u001b[0;32m--> 860\u001b[0;31m         return self._input_request(str(prompt),\n\u001b[0m\u001b[1;32m    861\u001b[0m             \u001b[0mself\u001b[0m\u001b[0;34m.\u001b[0m\u001b[0m_parent_ident\u001b[0m\u001b[0;34m,\u001b[0m\u001b[0;34m\u001b[0m\u001b[0;34m\u001b[0m\u001b[0m\n\u001b[1;32m    862\u001b[0m             \u001b[0mself\u001b[0m\u001b[0;34m.\u001b[0m\u001b[0m_parent_header\u001b[0m\u001b[0;34m,\u001b[0m\u001b[0;34m\u001b[0m\u001b[0;34m\u001b[0m\u001b[0m\n",
            "\u001b[0;32m/usr/local/lib/python3.8/dist-packages/ipykernel/kernelbase.py\u001b[0m in \u001b[0;36m_input_request\u001b[0;34m(self, prompt, ident, parent, password)\u001b[0m\n\u001b[1;32m    902\u001b[0m             \u001b[0;32mexcept\u001b[0m \u001b[0mKeyboardInterrupt\u001b[0m\u001b[0;34m:\u001b[0m\u001b[0;34m\u001b[0m\u001b[0;34m\u001b[0m\u001b[0m\n\u001b[1;32m    903\u001b[0m                 \u001b[0;31m# re-raise KeyboardInterrupt, to truncate traceback\u001b[0m\u001b[0;34m\u001b[0m\u001b[0;34m\u001b[0m\u001b[0;34m\u001b[0m\u001b[0m\n\u001b[0;32m--> 904\u001b[0;31m                 \u001b[0;32mraise\u001b[0m \u001b[0mKeyboardInterrupt\u001b[0m\u001b[0;34m(\u001b[0m\u001b[0;34m\"Interrupted by user\"\u001b[0m\u001b[0;34m)\u001b[0m \u001b[0;32mfrom\u001b[0m \u001b[0;32mNone\u001b[0m\u001b[0;34m\u001b[0m\u001b[0;34m\u001b[0m\u001b[0m\n\u001b[0m\u001b[1;32m    905\u001b[0m             \u001b[0;32mexcept\u001b[0m \u001b[0mException\u001b[0m \u001b[0;32mas\u001b[0m \u001b[0me\u001b[0m\u001b[0;34m:\u001b[0m\u001b[0;34m\u001b[0m\u001b[0;34m\u001b[0m\u001b[0m\n\u001b[1;32m    906\u001b[0m                 \u001b[0mself\u001b[0m\u001b[0;34m.\u001b[0m\u001b[0mlog\u001b[0m\u001b[0;34m.\u001b[0m\u001b[0mwarning\u001b[0m\u001b[0;34m(\u001b[0m\u001b[0;34m\"Invalid Message:\"\u001b[0m\u001b[0;34m,\u001b[0m \u001b[0mexc_info\u001b[0m\u001b[0;34m=\u001b[0m\u001b[0;32mTrue\u001b[0m\u001b[0;34m)\u001b[0m\u001b[0;34m\u001b[0m\u001b[0;34m\u001b[0m\u001b[0m\n",
            "\u001b[0;31mKeyboardInterrupt\u001b[0m: Interrupted by user"
          ]
        }
      ]
    },
    {
      "cell_type": "code",
      "source": [
        "while underscores.count(\"_\") != 0:\n",
        "  clear_output(wait=True)\n",
        "  print(*underscores)\n",
        "  letter = input(\"Enter your 1 letter guess here: \")\n",
        "  if len(letter) > 1 and len(letter) != 0:\n",
        "    print(\"Please enter only one letter at a time!\")\n",
        "    continue\n",
        "  if letter in word:\n",
        "    count = word.count(letter)\n",
        "    for i in range(count):\n",
        "      position = word.index(letter)\n",
        "      underscores[position] = letter\n",
        "      word = word.replace(letter, \"!\", 1)\n",
        "    print(\"Right guess!\")\n",
        "  else:\n",
        "    print(\"Wrong guess--try again!\")\n",
        "  \n",
        "print(\"Great job! You've won with the word\", *underscores,\"\\b.\")"
      ],
      "metadata": {
        "colab": {
          "base_uri": "https://localhost:8080/"
        },
        "id": "QE9DT_uinvxh",
        "outputId": "174e0b7b-d25a-4ff7-cc99-762a38c1ffa6"
      },
      "execution_count": null,
      "outputs": [
        {
          "output_type": "stream",
          "name": "stdout",
          "text": [
            "p i z z _\n",
            "Enter your 1 letter guess here: a\n",
            "Right guess!\n",
            "Great job! You've won with the word p i z z a \b.\n"
          ]
        }
      ]
    },
    {
      "cell_type": "code",
      "source": [
        "while underscores.count(\"_\") != 0:\n",
        "  clear_output(wait=True)\n",
        "  print(*underscores)\n",
        "  letter = input(\"Enter your 1 letter guess here: \")\n",
        "  if len(letter) > 1 and len(letter) != 0:\n",
        "    print(\"Please enter only one letter at a time!\")\n",
        "    continue\n",
        "  if letter in word:\n",
        "    count = word.count(letter)\n",
        "    for i in range(count):\n",
        "      position = word.index(letter)\n",
        "      underscores[position] = letter\n",
        "      word = word.replace(letter, \"!\", 1)\n",
        "    print(\"Right guess!\")\n",
        "  else:\n",
        "    print(\"Wrong guess--try again!\")\n",
        "clear_output(wait=True)\n",
        "print(\"Great job! You've won with the word\", *underscores,\"\\b.\")"
      ],
      "metadata": {
        "colab": {
          "base_uri": "https://localhost:8080/"
        },
        "outputId": "0a2d50f2-85da-4251-e23c-0296515403fa",
        "id": "QS1t1lTQkUXh"
      },
      "execution_count": null,
      "outputs": [
        {
          "output_type": "stream",
          "name": "stdout",
          "text": [
            "Great job! You've won with the word p i z z a \b.\n"
          ]
        }
      ]
    },
    {
      "cell_type": "markdown",
      "source": [
        "clearing the jupyter notebook - there: "
      ],
      "metadata": {
        "id": "FS1-4iITiiDF"
      }
    },
    {
      "cell_type": "code",
      "source": [
        "# from IPython.display import clear_output\n",
        "\n"
      ],
      "metadata": {
        "id": "CfSEshdDjzXM"
      },
      "execution_count": null,
      "outputs": []
    },
    {
      "cell_type": "code",
      "source": [],
      "metadata": {
        "id": "ihDzOSSBjPR_"
      },
      "execution_count": null,
      "outputs": []
    },
    {
      "cell_type": "markdown",
      "source": [
        "Asterisks are used to unpack a list*"
      ],
      "metadata": {
        "id": "Pv5qhbWZpBFX"
      }
    },
    {
      "cell_type": "code",
      "source": [],
      "metadata": {
        "id": "8bo-m2Jmoi-a"
      },
      "execution_count": null,
      "outputs": []
    },
    {
      "cell_type": "code",
      "source": [
        "\"cheese\".index(\"s\")"
      ],
      "metadata": {
        "colab": {
          "base_uri": "https://localhost:8080/"
        },
        "id": "e3GdyPILrRdm",
        "outputId": "eae4eb9f-a818-45d4-a78e-0ee66506b981"
      },
      "execution_count": null,
      "outputs": [
        {
          "output_type": "execute_result",
          "data": {
            "text/plain": [
              "4"
            ]
          },
          "metadata": {},
          "execution_count": 13
        }
      ]
    },
    {
      "cell_type": "code",
      "source": [],
      "metadata": {
        "id": "A0WWcZ6urZ3-"
      },
      "execution_count": null,
      "outputs": []
    }
  ]
}